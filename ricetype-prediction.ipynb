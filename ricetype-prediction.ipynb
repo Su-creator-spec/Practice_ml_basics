{
 "cells": [
  {
   "cell_type": "code",
   "execution_count": 1,
   "id": "f515e09c",
   "metadata": {
    "_cell_guid": "b1076dfc-b9ad-4769-8c92-a6c4dae69d19",
    "_uuid": "8f2839f25d086af736a60e9eeb907d3b93b6e0e5",
    "execution": {
     "iopub.execute_input": "2025-07-27T14:53:31.925308Z",
     "iopub.status.busy": "2025-07-27T14:53:31.924870Z",
     "iopub.status.idle": "2025-07-27T14:53:31.942193Z",
     "shell.execute_reply": "2025-07-27T14:53:31.941056Z"
    },
    "papermill": {
     "duration": 0.02561,
     "end_time": "2025-07-27T14:53:31.944032",
     "exception": false,
     "start_time": "2025-07-27T14:53:31.918422",
     "status": "completed"
    },
    "tags": []
   },
   "outputs": [
    {
     "name": "stdout",
     "output_type": "stream",
     "text": [
      "/kaggle/input/rice-type-classification/riceClassification.csv\n"
     ]
    }
   ],
   "source": [
    "import os\n",
    "for dirname, _, filenames in os.walk('/kaggle/input'):\n",
    "    for filename in filenames:\n",
    "        print(os.path.join(dirname, filename))"
   ]
  },
  {
   "cell_type": "code",
   "execution_count": 2,
   "id": "c1f80b5c",
   "metadata": {
    "execution": {
     "iopub.execute_input": "2025-07-27T14:53:31.962156Z",
     "iopub.status.busy": "2025-07-27T14:53:31.961715Z",
     "iopub.status.idle": "2025-07-27T14:53:31.970223Z",
     "shell.execute_reply": "2025-07-27T14:53:31.966825Z"
    },
    "papermill": {
     "duration": 0.023358,
     "end_time": "2025-07-27T14:53:31.974656",
     "exception": false,
     "start_time": "2025-07-27T14:53:31.951298",
     "status": "completed"
    },
    "tags": []
   },
   "outputs": [],
   "source": [
    "path='/kaggle/input/rice-type-classification/riceClassification.csv'"
   ]
  },
  {
   "cell_type": "code",
   "execution_count": 3,
   "id": "4b4332be",
   "metadata": {
    "execution": {
     "iopub.execute_input": "2025-07-27T14:53:31.988569Z",
     "iopub.status.busy": "2025-07-27T14:53:31.987317Z",
     "iopub.status.idle": "2025-07-27T14:53:40.760633Z",
     "shell.execute_reply": "2025-07-27T14:53:40.759675Z"
    },
    "papermill": {
     "duration": 8.780288,
     "end_time": "2025-07-27T14:53:40.762314",
     "exception": false,
     "start_time": "2025-07-27T14:53:31.982026",
     "status": "completed"
    },
    "tags": []
   },
   "outputs": [],
   "source": [
    "import torch \n",
    "import torch.nn as nn \n",
    "from torch.optim import Adam \n",
    "from torch.utils.data import Dataset , DataLoader\n",
    "from torchsummary import summary \n",
    "from sklearn.model_selection import train_test_split \n",
    "from sklearn.metrics import accuracy_score\n",
    "import matplotlib as plt \n",
    "import pandas as pd \n",
    "import numpy as np "
   ]
  },
  {
   "cell_type": "code",
   "execution_count": 4,
   "id": "227bc992",
   "metadata": {
    "execution": {
     "iopub.execute_input": "2025-07-27T14:53:40.771929Z",
     "iopub.status.busy": "2025-07-27T14:53:40.771448Z",
     "iopub.status.idle": "2025-07-27T14:53:40.912280Z",
     "shell.execute_reply": "2025-07-27T14:53:40.911408Z"
    },
    "papermill": {
     "duration": 0.147349,
     "end_time": "2025-07-27T14:53:40.913830",
     "exception": false,
     "start_time": "2025-07-27T14:53:40.766481",
     "status": "completed"
    },
    "tags": []
   },
   "outputs": [
    {
     "data": {
      "text/html": [
       "<div>\n",
       "<style scoped>\n",
       "    .dataframe tbody tr th:only-of-type {\n",
       "        vertical-align: middle;\n",
       "    }\n",
       "\n",
       "    .dataframe tbody tr th {\n",
       "        vertical-align: top;\n",
       "    }\n",
       "\n",
       "    .dataframe thead th {\n",
       "        text-align: right;\n",
       "    }\n",
       "</style>\n",
       "<table border=\"1\" class=\"dataframe\">\n",
       "  <thead>\n",
       "    <tr style=\"text-align: right;\">\n",
       "      <th></th>\n",
       "      <th>id</th>\n",
       "      <th>Area</th>\n",
       "      <th>MajorAxisLength</th>\n",
       "      <th>MinorAxisLength</th>\n",
       "      <th>Eccentricity</th>\n",
       "      <th>ConvexArea</th>\n",
       "      <th>EquivDiameter</th>\n",
       "      <th>Extent</th>\n",
       "      <th>Perimeter</th>\n",
       "      <th>Roundness</th>\n",
       "      <th>AspectRation</th>\n",
       "      <th>Class</th>\n",
       "    </tr>\n",
       "  </thead>\n",
       "  <tbody>\n",
       "    <tr>\n",
       "      <th>0</th>\n",
       "      <td>1</td>\n",
       "      <td>4537</td>\n",
       "      <td>92.229316</td>\n",
       "      <td>64.012769</td>\n",
       "      <td>0.719916</td>\n",
       "      <td>4677</td>\n",
       "      <td>76.004525</td>\n",
       "      <td>0.657536</td>\n",
       "      <td>273.085</td>\n",
       "      <td>0.764510</td>\n",
       "      <td>1.440796</td>\n",
       "      <td>1</td>\n",
       "    </tr>\n",
       "    <tr>\n",
       "      <th>1</th>\n",
       "      <td>2</td>\n",
       "      <td>2872</td>\n",
       "      <td>74.691881</td>\n",
       "      <td>51.400454</td>\n",
       "      <td>0.725553</td>\n",
       "      <td>3015</td>\n",
       "      <td>60.471018</td>\n",
       "      <td>0.713009</td>\n",
       "      <td>208.317</td>\n",
       "      <td>0.831658</td>\n",
       "      <td>1.453137</td>\n",
       "      <td>1</td>\n",
       "    </tr>\n",
       "    <tr>\n",
       "      <th>2</th>\n",
       "      <td>3</td>\n",
       "      <td>3048</td>\n",
       "      <td>76.293164</td>\n",
       "      <td>52.043491</td>\n",
       "      <td>0.731211</td>\n",
       "      <td>3132</td>\n",
       "      <td>62.296341</td>\n",
       "      <td>0.759153</td>\n",
       "      <td>210.012</td>\n",
       "      <td>0.868434</td>\n",
       "      <td>1.465950</td>\n",
       "      <td>1</td>\n",
       "    </tr>\n",
       "    <tr>\n",
       "      <th>3</th>\n",
       "      <td>4</td>\n",
       "      <td>3073</td>\n",
       "      <td>77.033628</td>\n",
       "      <td>51.928487</td>\n",
       "      <td>0.738639</td>\n",
       "      <td>3157</td>\n",
       "      <td>62.551300</td>\n",
       "      <td>0.783529</td>\n",
       "      <td>210.657</td>\n",
       "      <td>0.870203</td>\n",
       "      <td>1.483456</td>\n",
       "      <td>1</td>\n",
       "    </tr>\n",
       "    <tr>\n",
       "      <th>4</th>\n",
       "      <td>5</td>\n",
       "      <td>3693</td>\n",
       "      <td>85.124785</td>\n",
       "      <td>56.374021</td>\n",
       "      <td>0.749282</td>\n",
       "      <td>3802</td>\n",
       "      <td>68.571668</td>\n",
       "      <td>0.769375</td>\n",
       "      <td>230.332</td>\n",
       "      <td>0.874743</td>\n",
       "      <td>1.510000</td>\n",
       "      <td>1</td>\n",
       "    </tr>\n",
       "  </tbody>\n",
       "</table>\n",
       "</div>"
      ],
      "text/plain": [
       "   id  Area  MajorAxisLength  MinorAxisLength  Eccentricity  ConvexArea  \\\n",
       "0   1  4537        92.229316        64.012769      0.719916        4677   \n",
       "1   2  2872        74.691881        51.400454      0.725553        3015   \n",
       "2   3  3048        76.293164        52.043491      0.731211        3132   \n",
       "3   4  3073        77.033628        51.928487      0.738639        3157   \n",
       "4   5  3693        85.124785        56.374021      0.749282        3802   \n",
       "\n",
       "   EquivDiameter    Extent  Perimeter  Roundness  AspectRation  Class  \n",
       "0      76.004525  0.657536    273.085   0.764510      1.440796      1  \n",
       "1      60.471018  0.713009    208.317   0.831658      1.453137      1  \n",
       "2      62.296341  0.759153    210.012   0.868434      1.465950      1  \n",
       "3      62.551300  0.783529    210.657   0.870203      1.483456      1  \n",
       "4      68.571668  0.769375    230.332   0.874743      1.510000      1  "
      ]
     },
     "execution_count": 4,
     "metadata": {},
     "output_type": "execute_result"
    }
   ],
   "source": [
    "df=pd.read_csv(path)\n",
    "df.head()"
   ]
  },
  {
   "cell_type": "code",
   "execution_count": 5,
   "id": "7762be41",
   "metadata": {
    "execution": {
     "iopub.execute_input": "2025-07-27T14:53:40.923329Z",
     "iopub.status.busy": "2025-07-27T14:53:40.923002Z",
     "iopub.status.idle": "2025-07-27T14:53:40.937352Z",
     "shell.execute_reply": "2025-07-27T14:53:40.936263Z"
    },
    "papermill": {
     "duration": 0.020735,
     "end_time": "2025-07-27T14:53:40.938870",
     "exception": false,
     "start_time": "2025-07-27T14:53:40.918135",
     "status": "completed"
    },
    "tags": []
   },
   "outputs": [
    {
     "name": "stdout",
     "output_type": "stream",
     "text": [
      "(18185, 11)\n"
     ]
    }
   ],
   "source": [
    "df.dropna(inplace=True)\n",
    "df.drop(['id'],axis=1 ,inplace=True)\n",
    "print(df.shape)"
   ]
  },
  {
   "cell_type": "code",
   "execution_count": 6,
   "id": "23b5c361",
   "metadata": {
    "execution": {
     "iopub.execute_input": "2025-07-27T14:53:40.948874Z",
     "iopub.status.busy": "2025-07-27T14:53:40.948173Z",
     "iopub.status.idle": "2025-07-27T14:53:40.974793Z",
     "shell.execute_reply": "2025-07-27T14:53:40.973901Z"
    },
    "papermill": {
     "duration": 0.033081,
     "end_time": "2025-07-27T14:53:40.976269",
     "exception": false,
     "start_time": "2025-07-27T14:53:40.943188",
     "status": "completed"
    },
    "tags": []
   },
   "outputs": [
    {
     "data": {
      "text/html": [
       "<div>\n",
       "<style scoped>\n",
       "    .dataframe tbody tr th:only-of-type {\n",
       "        vertical-align: middle;\n",
       "    }\n",
       "\n",
       "    .dataframe tbody tr th {\n",
       "        vertical-align: top;\n",
       "    }\n",
       "\n",
       "    .dataframe thead th {\n",
       "        text-align: right;\n",
       "    }\n",
       "</style>\n",
       "<table border=\"1\" class=\"dataframe\">\n",
       "  <thead>\n",
       "    <tr style=\"text-align: right;\">\n",
       "      <th></th>\n",
       "      <th>Area</th>\n",
       "      <th>MajorAxisLength</th>\n",
       "      <th>MinorAxisLength</th>\n",
       "      <th>Eccentricity</th>\n",
       "      <th>ConvexArea</th>\n",
       "      <th>EquivDiameter</th>\n",
       "      <th>Extent</th>\n",
       "      <th>Perimeter</th>\n",
       "      <th>Roundness</th>\n",
       "      <th>AspectRation</th>\n",
       "      <th>Class</th>\n",
       "    </tr>\n",
       "  </thead>\n",
       "  <tbody>\n",
       "    <tr>\n",
       "      <th>0</th>\n",
       "      <td>0.444368</td>\n",
       "      <td>0.503404</td>\n",
       "      <td>0.775435</td>\n",
       "      <td>0.744658</td>\n",
       "      <td>0.424873</td>\n",
       "      <td>0.666610</td>\n",
       "      <td>0.741661</td>\n",
       "      <td>0.537029</td>\n",
       "      <td>0.844997</td>\n",
       "      <td>0.368316</td>\n",
       "      <td>1.0</td>\n",
       "    </tr>\n",
       "    <tr>\n",
       "      <th>1</th>\n",
       "      <td>0.281293</td>\n",
       "      <td>0.407681</td>\n",
       "      <td>0.622653</td>\n",
       "      <td>0.750489</td>\n",
       "      <td>0.273892</td>\n",
       "      <td>0.530370</td>\n",
       "      <td>0.804230</td>\n",
       "      <td>0.409661</td>\n",
       "      <td>0.919215</td>\n",
       "      <td>0.371471</td>\n",
       "      <td>1.0</td>\n",
       "    </tr>\n",
       "    <tr>\n",
       "      <th>2</th>\n",
       "      <td>0.298531</td>\n",
       "      <td>0.416421</td>\n",
       "      <td>0.630442</td>\n",
       "      <td>0.756341</td>\n",
       "      <td>0.284520</td>\n",
       "      <td>0.546380</td>\n",
       "      <td>0.856278</td>\n",
       "      <td>0.412994</td>\n",
       "      <td>0.959862</td>\n",
       "      <td>0.374747</td>\n",
       "      <td>1.0</td>\n",
       "    </tr>\n",
       "    <tr>\n",
       "      <th>3</th>\n",
       "      <td>0.300979</td>\n",
       "      <td>0.420463</td>\n",
       "      <td>0.629049</td>\n",
       "      <td>0.764024</td>\n",
       "      <td>0.286791</td>\n",
       "      <td>0.548616</td>\n",
       "      <td>0.883772</td>\n",
       "      <td>0.414262</td>\n",
       "      <td>0.961818</td>\n",
       "      <td>0.379222</td>\n",
       "      <td>1.0</td>\n",
       "    </tr>\n",
       "    <tr>\n",
       "      <th>4</th>\n",
       "      <td>0.361704</td>\n",
       "      <td>0.464626</td>\n",
       "      <td>0.682901</td>\n",
       "      <td>0.775033</td>\n",
       "      <td>0.345385</td>\n",
       "      <td>0.601418</td>\n",
       "      <td>0.867808</td>\n",
       "      <td>0.452954</td>\n",
       "      <td>0.966836</td>\n",
       "      <td>0.386007</td>\n",
       "      <td>1.0</td>\n",
       "    </tr>\n",
       "  </tbody>\n",
       "</table>\n",
       "</div>"
      ],
      "text/plain": [
       "       Area  MajorAxisLength  MinorAxisLength  Eccentricity  ConvexArea  \\\n",
       "0  0.444368         0.503404         0.775435      0.744658    0.424873   \n",
       "1  0.281293         0.407681         0.622653      0.750489    0.273892   \n",
       "2  0.298531         0.416421         0.630442      0.756341    0.284520   \n",
       "3  0.300979         0.420463         0.629049      0.764024    0.286791   \n",
       "4  0.361704         0.464626         0.682901      0.775033    0.345385   \n",
       "\n",
       "   EquivDiameter    Extent  Perimeter  Roundness  AspectRation  Class  \n",
       "0       0.666610  0.741661   0.537029   0.844997      0.368316    1.0  \n",
       "1       0.530370  0.804230   0.409661   0.919215      0.371471    1.0  \n",
       "2       0.546380  0.856278   0.412994   0.959862      0.374747    1.0  \n",
       "3       0.548616  0.883772   0.414262   0.961818      0.379222    1.0  \n",
       "4       0.601418  0.867808   0.452954   0.966836      0.386007    1.0  "
      ]
     },
     "execution_count": 6,
     "metadata": {},
     "output_type": "execute_result"
    }
   ],
   "source": [
    "original_df=df.copy()\n",
    "\n",
    "for col in df.columns:\n",
    "    df[col]=df[col]/df[col].abs().max()\n",
    "df.head()"
   ]
  },
  {
   "cell_type": "code",
   "execution_count": 7,
   "id": "b3d4a21a",
   "metadata": {
    "execution": {
     "iopub.execute_input": "2025-07-27T14:53:40.986497Z",
     "iopub.status.busy": "2025-07-27T14:53:40.986204Z",
     "iopub.status.idle": "2025-07-27T14:53:40.995892Z",
     "shell.execute_reply": "2025-07-27T14:53:40.995141Z"
    },
    "papermill": {
     "duration": 0.016659,
     "end_time": "2025-07-27T14:53:40.997503",
     "exception": false,
     "start_time": "2025-07-27T14:53:40.980844",
     "status": "completed"
    },
    "tags": []
   },
   "outputs": [],
   "source": [
    "X =np.array(df.iloc[:,:-1])\n",
    "Y=np.array(df.iloc[:,-1])"
   ]
  },
  {
   "cell_type": "code",
   "execution_count": 8,
   "id": "26d325c7",
   "metadata": {
    "execution": {
     "iopub.execute_input": "2025-07-27T14:53:41.007642Z",
     "iopub.status.busy": "2025-07-27T14:53:41.007340Z",
     "iopub.status.idle": "2025-07-27T14:53:41.014019Z",
     "shell.execute_reply": "2025-07-27T14:53:41.013150Z"
    },
    "papermill": {
     "duration": 0.013508,
     "end_time": "2025-07-27T14:53:41.015634",
     "exception": false,
     "start_time": "2025-07-27T14:53:41.002126",
     "status": "completed"
    },
    "tags": []
   },
   "outputs": [],
   "source": [
    "X_train, X_test,y_train,y_test=train_test_split(X,Y,test_size=0.3)"
   ]
  },
  {
   "cell_type": "code",
   "execution_count": 9,
   "id": "8ef7fced",
   "metadata": {
    "execution": {
     "iopub.execute_input": "2025-07-27T14:53:41.028482Z",
     "iopub.status.busy": "2025-07-27T14:53:41.028127Z",
     "iopub.status.idle": "2025-07-27T14:53:41.033648Z",
     "shell.execute_reply": "2025-07-27T14:53:41.032781Z"
    },
    "papermill": {
     "duration": 0.013676,
     "end_time": "2025-07-27T14:53:41.035111",
     "exception": false,
     "start_time": "2025-07-27T14:53:41.021435",
     "status": "completed"
    },
    "tags": []
   },
   "outputs": [],
   "source": [
    "X_test,X_val,y_test,y_val=train_test_split(X_test,y_test,test_size=0.5)"
   ]
  },
  {
   "cell_type": "code",
   "execution_count": 10,
   "id": "aa3b3293",
   "metadata": {
    "execution": {
     "iopub.execute_input": "2025-07-27T14:53:41.045210Z",
     "iopub.status.busy": "2025-07-27T14:53:41.044912Z",
     "iopub.status.idle": "2025-07-27T14:53:41.049912Z",
     "shell.execute_reply": "2025-07-27T14:53:41.048801Z"
    },
    "papermill": {
     "duration": 0.011695,
     "end_time": "2025-07-27T14:53:41.051243",
     "exception": false,
     "start_time": "2025-07-27T14:53:41.039548",
     "status": "completed"
    },
    "tags": []
   },
   "outputs": [
    {
     "name": "stdout",
     "output_type": "stream",
     "text": [
      "(12729, 10)\n",
      "(2728, 10)\n",
      "(2728, 10)\n"
     ]
    }
   ],
   "source": [
    "print(X_train.shape)\n",
    "print(X_test.shape)\n",
    "print(X_val.shape)"
   ]
  },
  {
   "cell_type": "code",
   "execution_count": 11,
   "id": "afa91cb5",
   "metadata": {
    "execution": {
     "iopub.execute_input": "2025-07-27T14:53:41.061325Z",
     "iopub.status.busy": "2025-07-27T14:53:41.061023Z",
     "iopub.status.idle": "2025-07-27T14:53:41.116652Z",
     "shell.execute_reply": "2025-07-27T14:53:41.115583Z"
    },
    "papermill": {
     "duration": 0.062621,
     "end_time": "2025-07-27T14:53:41.118407",
     "exception": false,
     "start_time": "2025-07-27T14:53:41.055786",
     "status": "completed"
    },
    "tags": []
   },
   "outputs": [],
   "source": [
    "class dataset(Dataset):\n",
    "    def __init__(self,X,Y):\n",
    "        self.X=torch.tensor(X,dtype=torch.float32)\n",
    "        self.Y=torch.tensor(Y,dtype=torch.float32)\n",
    "    \n",
    "    def __len__(self):\n",
    "        return len(self.X)\n",
    "    \n",
    "    def __getitem__(self,index):\n",
    "        return self.X[index],self.Y[index]\n",
    "\n",
    "training_data=dataset(X_train,y_train)\n",
    "testing_data=dataset(X_test,y_test)\n",
    "validating_data=dataset(X_val,y_val)\n",
    "        "
   ]
  },
  {
   "cell_type": "code",
   "execution_count": 12,
   "id": "e15b628a",
   "metadata": {
    "execution": {
     "iopub.execute_input": "2025-07-27T14:53:41.129145Z",
     "iopub.status.busy": "2025-07-27T14:53:41.128817Z",
     "iopub.status.idle": "2025-07-27T14:53:41.133546Z",
     "shell.execute_reply": "2025-07-27T14:53:41.132504Z"
    },
    "papermill": {
     "duration": 0.012046,
     "end_time": "2025-07-27T14:53:41.135195",
     "exception": false,
     "start_time": "2025-07-27T14:53:41.123149",
     "status": "completed"
    },
    "tags": []
   },
   "outputs": [],
   "source": [
    "BATCH_SIZE=32\n",
    "EPOCHS=10\n",
    "HIDDEN_NEURONS=10\n",
    "LR=1e-3"
   ]
  },
  {
   "cell_type": "code",
   "execution_count": 13,
   "id": "5fcf37af",
   "metadata": {
    "execution": {
     "iopub.execute_input": "2025-07-27T14:53:41.145421Z",
     "iopub.status.busy": "2025-07-27T14:53:41.144998Z",
     "iopub.status.idle": "2025-07-27T14:53:41.151704Z",
     "shell.execute_reply": "2025-07-27T14:53:41.150791Z"
    },
    "papermill": {
     "duration": 0.013757,
     "end_time": "2025-07-27T14:53:41.153528",
     "exception": false,
     "start_time": "2025-07-27T14:53:41.139771",
     "status": "completed"
    },
    "tags": []
   },
   "outputs": [],
   "source": [
    "train_dataloader=DataLoader(training_data,batch_size=BATCH_SIZE,shuffle=True)\n",
    "test_dataloader=DataLoader(testing_data,batch_size=BATCH_SIZE,shuffle=True)\n",
    "val_dataloader=DataLoader(validating_data,batch_size=BATCH_SIZE,shuffle=True)\n"
   ]
  },
  {
   "cell_type": "markdown",
   "id": "a58e5a65",
   "metadata": {
    "papermill": {
     "duration": 0.003946,
     "end_time": "2025-07-27T14:53:41.161862",
     "exception": false,
     "start_time": "2025-07-27T14:53:41.157916",
     "status": "completed"
    },
    "tags": []
   },
   "source": [
    "Model Class"
   ]
  },
  {
   "cell_type": "code",
   "execution_count": 14,
   "id": "4b5fd073",
   "metadata": {
    "execution": {
     "iopub.execute_input": "2025-07-27T14:53:41.171511Z",
     "iopub.status.busy": "2025-07-27T14:53:41.171191Z",
     "iopub.status.idle": "2025-07-27T14:53:41.177113Z",
     "shell.execute_reply": "2025-07-27T14:53:41.176294Z"
    },
    "papermill": {
     "duration": 0.012314,
     "end_time": "2025-07-27T14:53:41.178415",
     "exception": false,
     "start_time": "2025-07-27T14:53:41.166101",
     "status": "completed"
    },
    "tags": []
   },
   "outputs": [],
   "source": [
    "class MyModel(nn.Module):\n",
    "    def __init__(self):\n",
    "        super(MyModel,self).__init__()\n",
    "        self.input_layer=nn.Linear(X.shape[1],HIDDEN_NEURONS)\n",
    "        self.linear=nn.Linear(HIDDEN_NEURONS,1)\n",
    "        self.sigmoid=nn.Sigmoid()\n",
    "    \n",
    "    def forward(self,x):\n",
    "        x=self.input_layer(x)\n",
    "        x=self.linear(x)\n",
    "        x=self.sigmoid(x)\n",
    "        return x"
   ]
  },
  {
   "cell_type": "markdown",
   "id": "2d43b8b6",
   "metadata": {
    "papermill": {
     "duration": 0.004147,
     "end_time": "2025-07-27T14:53:41.187028",
     "exception": false,
     "start_time": "2025-07-27T14:53:41.182881",
     "status": "completed"
    },
    "tags": []
   },
   "source": [
    "Model Creation "
   ]
  },
  {
   "cell_type": "code",
   "execution_count": 15,
   "id": "097351c9",
   "metadata": {
    "execution": {
     "iopub.execute_input": "2025-07-27T14:53:41.197001Z",
     "iopub.status.busy": "2025-07-27T14:53:41.196678Z",
     "iopub.status.idle": "2025-07-27T14:53:41.277245Z",
     "shell.execute_reply": "2025-07-27T14:53:41.276192Z"
    },
    "papermill": {
     "duration": 0.087574,
     "end_time": "2025-07-27T14:53:41.278862",
     "exception": false,
     "start_time": "2025-07-27T14:53:41.191288",
     "status": "completed"
    },
    "tags": []
   },
   "outputs": [
    {
     "name": "stdout",
     "output_type": "stream",
     "text": [
      "----------------------------------------------------------------\n",
      "        Layer (type)               Output Shape         Param #\n",
      "================================================================\n",
      "            Linear-1                   [-1, 10]             110\n",
      "            Linear-2                    [-1, 1]              11\n",
      "           Sigmoid-3                    [-1, 1]               0\n",
      "================================================================\n",
      "Total params: 121\n",
      "Trainable params: 121\n",
      "Non-trainable params: 0\n",
      "----------------------------------------------------------------\n",
      "Input size (MB): 0.00\n",
      "Forward/backward pass size (MB): 0.00\n",
      "Params size (MB): 0.00\n",
      "Estimated Total Size (MB): 0.00\n",
      "----------------------------------------------------------------\n"
     ]
    }
   ],
   "source": [
    "model=MyModel()\n",
    "summary(model,(X.shape[1],))"
   ]
  },
  {
   "cell_type": "markdown",
   "id": "73230df4",
   "metadata": {
    "papermill": {
     "duration": 0.00404,
     "end_time": "2025-07-27T14:53:41.287356",
     "exception": false,
     "start_time": "2025-07-27T14:53:41.283316",
     "status": "completed"
    },
    "tags": []
   },
   "source": [
    "Loss And Optimizer\n",
    "loss we are Binary Cross Entropy and Optimizer is Adam "
   ]
  },
  {
   "cell_type": "code",
   "execution_count": 16,
   "id": "3fd21847",
   "metadata": {
    "execution": {
     "iopub.execute_input": "2025-07-27T14:53:41.297561Z",
     "iopub.status.busy": "2025-07-27T14:53:41.296810Z",
     "iopub.status.idle": "2025-07-27T14:53:47.240042Z",
     "shell.execute_reply": "2025-07-27T14:53:47.239095Z"
    },
    "papermill": {
     "duration": 5.950307,
     "end_time": "2025-07-27T14:53:47.241871",
     "exception": false,
     "start_time": "2025-07-27T14:53:41.291564",
     "status": "completed"
    },
    "tags": []
   },
   "outputs": [],
   "source": [
    "criterion=nn.BCELoss()\n",
    "optimizer=Adam(model.parameters(),lr=LR)"
   ]
  },
  {
   "cell_type": "code",
   "execution_count": 17,
   "id": "0470330a",
   "metadata": {
    "execution": {
     "iopub.execute_input": "2025-07-27T14:53:47.252442Z",
     "iopub.status.busy": "2025-07-27T14:53:47.251959Z",
     "iopub.status.idle": "2025-07-27T14:53:52.855059Z",
     "shell.execute_reply": "2025-07-27T14:53:52.854086Z"
    },
    "papermill": {
     "duration": 5.60999,
     "end_time": "2025-07-27T14:53:52.856582",
     "exception": false,
     "start_time": "2025-07-27T14:53:47.246592",
     "status": "completed"
    },
    "tags": []
   },
   "outputs": [
    {
     "name": "stdout",
     "output_type": "stream",
     "text": [
      "Epoch no. 1 Train Loss: 0.2484 Train Accuracy: 74.5934 Validation Loss: 0.0419 Validation Accuracy: 98.1305\n",
      "==================================================\n",
      "Epoch no. 2 Train Loss: 0.1289 Train Accuracy: 97.8867 Validation Loss: 0.0175 Validation Accuracy: 97.4340\n",
      "==================================================\n",
      "Epoch no. 3 Train Loss: 0.0592 Train Accuracy: 98.3502 Validation Loss: 0.0096 Validation Accuracy: 98.3871\n",
      "==================================================\n",
      "Epoch no. 4 Train Loss: 0.0372 Train Accuracy: 98.4445 Validation Loss: 0.0070 Validation Accuracy: 98.5704\n",
      "==================================================\n",
      "Epoch no. 5 Train Loss: 0.0284 Train Accuracy: 98.5545 Validation Loss: 0.0056 Validation Accuracy: 98.4604\n",
      "==================================================\n",
      "Epoch no. 6 Train Loss: 0.0239 Train Accuracy: 98.5859 Validation Loss: 0.0049 Validation Accuracy: 98.4971\n",
      "==================================================\n",
      "Epoch no. 7 Train Loss: 0.0213 Train Accuracy: 98.5545 Validation Loss: 0.0045 Validation Accuracy: 98.6437\n",
      "==================================================\n",
      "Epoch no. 8 Train Loss: 0.0197 Train Accuracy: 98.5859 Validation Loss: 0.0042 Validation Accuracy: 98.6804\n",
      "==================================================\n",
      "Epoch no. 9 Train Loss: 0.0188 Train Accuracy: 98.6330 Validation Loss: 0.0041 Validation Accuracy: 98.6804\n",
      "==================================================\n",
      "Epoch no. 10 Train Loss: 0.0180 Train Accuracy: 98.6252 Validation Loss: 0.0039 Validation Accuracy: 98.6804\n",
      "==================================================\n"
     ]
    }
   ],
   "source": [
    "total_loss_train_plot = []\n",
    "total_loss_validation_plot = []\n",
    "total_acc_train_plot = []\n",
    "total_acc_validation_plot = []\n",
    "\n",
    "for epoch in range(EPOCHS):\n",
    "    total_acc_train = 0\n",
    "    total_loss_train = 0\n",
    "    total_acc_val = 0\n",
    "    total_loss_val = 0\n",
    "    ## Training and Validation\n",
    "    for data in train_dataloader:\n",
    "\n",
    "        inputs, labels = data\n",
    "\n",
    "        prediction = model(inputs).squeeze(1)\n",
    "\n",
    "        batch_loss = criterion(prediction, labels)\n",
    "\n",
    "        total_loss_train += batch_loss.item()\n",
    "\n",
    "        acc = ((prediction).round() == labels).sum().item()\n",
    "\n",
    "        total_acc_train += acc\n",
    "\n",
    "        batch_loss.backward()\n",
    "        optimizer.step()\n",
    "        optimizer.zero_grad()\n",
    "\n",
    "    ## Validation\n",
    "    with torch.no_grad():\n",
    "        for data in val_dataloader:\n",
    "            inputs, labels = data\n",
    "\n",
    "            prediction = model(inputs).squeeze(1)\n",
    "\n",
    "            batch_loss = criterion(prediction, labels)\n",
    "\n",
    "            total_loss_val += batch_loss.item()\n",
    "\n",
    "            acc = ((prediction).round() == labels).sum().item()\n",
    "\n",
    "            total_acc_val += acc\n",
    "\n",
    "    total_loss_train_plot.append(round(total_loss_train/1000, 4))\n",
    "    total_loss_validation_plot.append(round(total_loss_val/1000, 4))\n",
    "    total_acc_train_plot.append(round(total_acc_train/(training_data.__len__())*100, 4))\n",
    "    total_acc_validation_plot.append(round(total_acc_val/(validating_data.__len__())*100, 4))\n",
    "\n",
    "    print(f'''Epoch no. {epoch + 1} Train Loss: {total_loss_train/1000:.4f} Train Accuracy: {(total_acc_train/(training_data.__len__())*100):.4f} Validation Loss: {total_loss_val/1000:.4f} Validation Accuracy: {(total_acc_val/(validating_data.__len__())*100):.4f}''')\n",
    "    print(\"=\"*50)"
   ]
  },
  {
   "cell_type": "code",
   "execution_count": 18,
   "id": "c0ab3e4d",
   "metadata": {
    "execution": {
     "iopub.execute_input": "2025-07-27T14:53:52.868130Z",
     "iopub.status.busy": "2025-07-27T14:53:52.867769Z",
     "iopub.status.idle": "2025-07-27T14:53:52.921283Z",
     "shell.execute_reply": "2025-07-27T14:53:52.920158Z"
    },
    "papermill": {
     "duration": 0.061218,
     "end_time": "2025-07-27T14:53:52.922783",
     "exception": false,
     "start_time": "2025-07-27T14:53:52.861565",
     "status": "completed"
    },
    "tags": []
   },
   "outputs": [
    {
     "name": "stdout",
     "output_type": "stream",
     "text": [
      "Accuracy Score is: 98.79%\n"
     ]
    }
   ],
   "source": [
    "with torch.no_grad():\n",
    "    total_loss_test = 0\n",
    "    total_acc_test = 0\n",
    "    for data in test_dataloader:\n",
    "        inputs , labels =data\n",
    "        prediction = model(inputs).squeeze(1)\n",
    "        batch_loss_test=criterion((prediction),labels)\n",
    "        total_loss_test+= batch_loss_test.item()\n",
    "        acc = ((prediction).round() == labels).sum().item()\n",
    "        total_acc_test+=acc\n",
    "\n",
    "print(f\"Accuracy Score is: {round((total_acc_test/X_test.shape[0])*100, 2)}%\")\n"
   ]
  }
 ],
 "metadata": {
  "kaggle": {
   "accelerator": "none",
   "dataSources": [
    {
     "datasetId": 1440465,
     "sourceId": 2383170,
     "sourceType": "datasetVersion"
    }
   ],
   "dockerImageVersionId": 31089,
   "isGpuEnabled": false,
   "isInternetEnabled": false,
   "language": "python",
   "sourceType": "notebook"
  },
  "kernelspec": {
   "display_name": "Python 3",
   "language": "python",
   "name": "python3"
  },
  "language_info": {
   "codemirror_mode": {
    "name": "ipython",
    "version": 3
   },
   "file_extension": ".py",
   "mimetype": "text/x-python",
   "name": "python",
   "nbconvert_exporter": "python",
   "pygments_lexer": "ipython3",
   "version": "3.11.13"
  },
  "papermill": {
   "default_parameters": {},
   "duration": 29.319535,
   "end_time": "2025-07-27T14:53:55.903887",
   "environment_variables": {},
   "exception": null,
   "input_path": "__notebook__.ipynb",
   "output_path": "__notebook__.ipynb",
   "parameters": {},
   "start_time": "2025-07-27T14:53:26.584352",
   "version": "2.6.0"
  }
 },
 "nbformat": 4,
 "nbformat_minor": 5
}
